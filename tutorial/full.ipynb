{
 "cells": [
  {
   "cell_type": "markdown",
   "metadata": {},
   "source": [
    "Parts of notebook are taken from SBI tutorials and Peter Melchior's LFI introduction."
   ]
  },
  {
   "cell_type": "markdown",
   "metadata": {},
   "source": [
    "## Recap"
   ]
  },
  {
   "attachments": {},
   "cell_type": "markdown",
   "metadata": {},
   "source": [
    "We would like to perform inference on model's parameters $\\theta$ given observations $\\{x\\}_i$:\n",
    "$$ P(\\theta | \\{x\\}_i)$$\n",
    "\n",
    "We do this with Bayes rule:\n",
    "$$ P(\\theta | \\{x\\}_i) \\propto P(\\{x\\}_i|\\theta) P(\\theta),$$\n",
    "which relies on the Likelihood function $P(\\{x\\}_i|\\theta)$. "
   ]
  },
  {
   "cell_type": "markdown",
   "metadata": {},
   "source": [
    "<br>\n",
    "However, what if we don't know the Likelihood?\n",
    "<br>\n",
    "<br>\n",
    "\n",
    "Well say we have a simulator. Then we can simulate enough examples such that we can measure the frequency of examples reproducing the data (or getting close to it). This is called Approximate Bayesian Computation, or ABC:\n",
    "\n",
    "![ABC](https://upload.wikimedia.org/wikipedia/commons/b/b9/Approximate_Bayesian_computation_conceptual_overview.svg)"
   ]
  },
  {
   "cell_type": "markdown",
   "metadata": {},
   "source": [
    "But, what if the simulation is very expensive, and the data is high dimensional? Then we would need to run far too many simulations. E.g., images of a galaxy - we can't simply simulate enough galaxies until the pixels match up!\n",
    "\n",
    "So we turn to Likelihood-Free Inference. Instead of needing to call the simulation over and over, we instead run it only a few times, and fit a function:\n",
    "\n",
    "$$P(\\theta|x)$$\n",
    "\n",
    "for several examples of $\\{\\theta, x\\}_i$, such that $\\sum_i P(\\theta|x)$ is maximized."
   ]
  },
  {
   "cell_type": "code",
   "execution_count": null,
   "metadata": {},
   "outputs": [],
   "source": []
  },
  {
   "cell_type": "code",
   "execution_count": null,
   "metadata": {},
   "outputs": [],
   "source": []
  },
  {
   "cell_type": "code",
   "execution_count": null,
   "metadata": {},
   "outputs": [],
   "source": []
  },
  {
   "cell_type": "code",
   "execution_count": null,
   "metadata": {},
   "outputs": [],
   "source": []
  },
  {
   "cell_type": "code",
   "execution_count": null,
   "metadata": {},
   "outputs": [],
   "source": []
  },
  {
   "cell_type": "code",
   "execution_count": null,
   "metadata": {},
   "outputs": [],
   "source": []
  },
  {
   "cell_type": "code",
   "execution_count": null,
   "metadata": {},
   "outputs": [],
   "source": []
  },
  {
   "cell_type": "code",
   "execution_count": null,
   "metadata": {},
   "outputs": [],
   "source": []
  },
  {
   "cell_type": "code",
   "execution_count": null,
   "metadata": {},
   "outputs": [],
   "source": []
  },
  {
   "cell_type": "code",
   "execution_count": null,
   "metadata": {},
   "outputs": [],
   "source": []
  },
  {
   "cell_type": "markdown",
   "metadata": {},
   "source": [
    "# PyTorch quick start"
   ]
  },
  {
   "cell_type": "code",
   "execution_count": 1,
   "metadata": {},
   "outputs": [],
   "source": [
    "import torch\n",
    "import numpy as np"
   ]
  },
  {
   "cell_type": "markdown",
   "metadata": {},
   "source": [
    "PyTorch is like numpy in syntax, but adds: vectorization, GPU-acceleration, and autodifferentiation. It also has deep learning kits. Let's do some linear algebra:"
   ]
  },
  {
   "cell_type": "markdown",
   "metadata": {},
   "source": [
    "Instead of `np.array`, we use `torch.tensor`:"
   ]
  },
  {
   "cell_type": "code",
   "execution_count": 2,
   "metadata": {},
   "outputs": [
    {
     "data": {
      "text/plain": [
       "(array([5., 3.]), tensor([5., 3.]))"
      ]
     },
     "execution_count": 2,
     "metadata": {},
     "output_type": "execute_result"
    }
   ],
   "source": [
    "np.array([5., 3.]), torch.tensor([5., 3.])"
   ]
  },
  {
   "cell_type": "markdown",
   "metadata": {},
   "source": [
    "But we can pass data back and forth between numpy and torch like so:"
   ]
  },
  {
   "cell_type": "code",
   "execution_count": 3,
   "metadata": {},
   "outputs": [
    {
     "data": {
      "text/plain": [
       "(array([10.,  5.,  1.]),\n",
       " tensor([10.,  5.,  1.], dtype=torch.float64),\n",
       " array([10.,  5.,  1.]))"
      ]
     },
     "execution_count": 3,
     "metadata": {},
     "output_type": "execute_result"
    }
   ],
   "source": [
    "x = np.array([10., 5., 1.])\n",
    "y = torch.tensor(x)\n",
    "z = np.array(y)\n",
    "x, y, z"
   ]
  },
  {
   "cell_type": "markdown",
   "metadata": {},
   "source": [
    "Create a vector of 10 zeros:"
   ]
  },
  {
   "cell_type": "code",
   "execution_count": 4,
   "metadata": {},
   "outputs": [
    {
     "data": {
      "text/plain": [
       "tensor([0., 0., 0., 0., 0., 0., 0., 0., 0., 0.])"
      ]
     },
     "execution_count": 4,
     "metadata": {},
     "output_type": "execute_result"
    }
   ],
   "source": [
    "x = torch.zeros(10)\n",
    "x"
   ]
  },
  {
   "cell_type": "markdown",
   "metadata": {},
   "source": [
    "Add 1 to each element:"
   ]
  },
  {
   "cell_type": "code",
   "execution_count": 5,
   "metadata": {},
   "outputs": [
    {
     "data": {
      "text/plain": [
       "tensor([1., 1., 1., 1., 1., 1., 1., 1., 1., 1.])"
      ]
     },
     "execution_count": 5,
     "metadata": {},
     "output_type": "execute_result"
    }
   ],
   "source": [
    "x + 1"
   ]
  },
  {
   "cell_type": "markdown",
   "metadata": {},
   "source": [
    "Generate random numbers:"
   ]
  },
  {
   "cell_type": "code",
   "execution_count": 6,
   "metadata": {},
   "outputs": [
    {
     "data": {
      "text/plain": [
       "tensor([-1.2177,  0.0391,  1.3016,  0.7003,  1.0195, -0.2013,  0.4223, -0.8245,\n",
       "        -1.0312,  1.5593])"
      ]
     },
     "execution_count": 6,
     "metadata": {},
     "output_type": "execute_result"
    }
   ],
   "source": [
    "x = torch.randn(10)\n",
    "x"
   ]
  },
  {
   "cell_type": "markdown",
   "metadata": {},
   "source": [
    "Do some basic operations, all with numpy syntax:"
   ]
  },
  {
   "cell_type": "code",
   "execution_count": 7,
   "metadata": {},
   "outputs": [
    {
     "data": {
      "text/plain": [
       "(tensor([0.3458, 0.9992, 0.2660, 0.7647, 0.5238, 0.9798, 0.9122, 0.6789, 0.5138,\n",
       "         0.0115]),\n",
       " tensor([0.7965, 0.0383, 0.8336, 0.5308, 0.7028, 0.1834, 0.3522, 0.6013, 0.7086,\n",
       "         0.9397]),\n",
       " tensor(1.7673),\n",
       " tensor(0.9882))"
      ]
     },
     "execution_count": 7,
     "metadata": {},
     "output_type": "execute_result"
    }
   ],
   "source": [
    "torch.cos(x), torch.log(torch.abs(x) + 1), torch.sum(x), x.std()"
   ]
  },
  {
   "cell_type": "markdown",
   "metadata": {},
   "source": [
    "Now, let's do stuff on the GPU:"
   ]
  },
  {
   "cell_type": "code",
   "execution_count": 8,
   "metadata": {},
   "outputs": [
    {
     "data": {
      "text/plain": [
       "tensor([[-1.5473, -1.4541, -0.4094,  ..., -0.9467, -0.3957, -0.9190],\n",
       "        [ 1.2915,  0.3078,  1.3502,  ..., -0.2240,  1.4586, -1.1972],\n",
       "        [ 0.7421, -1.2721,  0.3409,  ..., -0.6925,  1.2249, -0.8580],\n",
       "        ...,\n",
       "        [-0.6698,  1.7907, -1.3751,  ...,  0.6343, -0.2695,  0.5030],\n",
       "        [-0.1271,  1.6968, -1.8079,  ..., -0.1754, -1.8075, -0.9347],\n",
       "        [-1.1590, -0.4660,  0.1615,  ...,  0.3799,  0.2057, -1.4509]],\n",
       "       device='cuda:0')"
      ]
     },
     "execution_count": 8,
     "metadata": {},
     "output_type": "execute_result"
    }
   ],
   "source": [
    "x = torch.randn((100, 100))\n",
    "\n",
    "#Move to GPU:\n",
    "x = x.cuda()\n",
    "x"
   ]
  },
  {
   "cell_type": "markdown",
   "metadata": {},
   "source": [
    "So the vector is on the GPU. We can do vector operations all on the GPU now:"
   ]
  },
  {
   "cell_type": "code",
   "execution_count": 9,
   "metadata": {},
   "outputs": [
    {
     "data": {
      "text/plain": [
       "tensor([[-3.6822, -2.9593,  0.8478,  ..., -0.2651,  0.8598, -0.1704],\n",
       "        [ 2.4289,  0.9812,  2.6792,  ...,  0.9628,  3.2140, -1.3521],\n",
       "        [ 1.1448, -1.7652,  0.9811,  ...,  0.4366,  2.1759,  0.0214],\n",
       "        ...,\n",
       "        [ 0.4825,  5.5231, -2.4069,  ...,  1.0597,  0.9434,  1.0024],\n",
       "        [ 0.9889,  4.7585, -6.1445,  ...,  0.9783, -6.1405, -0.2235],\n",
       "        [-1.1578,  0.7912,  0.9902,  ...,  0.9826,  0.9866, -2.9355]],\n",
       "       device='cuda:0')"
      ]
     },
     "execution_count": 9,
     "metadata": {},
     "output_type": "execute_result"
    }
   ],
   "source": [
    "y = x**3 + torch.cos(x) - x.mean()\n",
    "y"
   ]
  },
  {
   "cell_type": "markdown",
   "metadata": {},
   "source": [
    "And move back to the CPU like so:"
   ]
  },
  {
   "cell_type": "code",
   "execution_count": 10,
   "metadata": {},
   "outputs": [
    {
     "data": {
      "text/plain": [
       "tensor([[-3.6822, -2.9593,  0.8478,  ..., -0.2651,  0.8598, -0.1704],\n",
       "        [ 2.4289,  0.9812,  2.6792,  ...,  0.9628,  3.2140, -1.3521],\n",
       "        [ 1.1448, -1.7652,  0.9811,  ...,  0.4366,  2.1759,  0.0214],\n",
       "        ...,\n",
       "        [ 0.4825,  5.5231, -2.4069,  ...,  1.0597,  0.9434,  1.0024],\n",
       "        [ 0.9889,  4.7585, -6.1445,  ...,  0.9783, -6.1405, -0.2235],\n",
       "        [-1.1578,  0.7912,  0.9902,  ...,  0.9826,  0.9866, -2.9355]])"
      ]
     },
     "execution_count": 10,
     "metadata": {},
     "output_type": "execute_result"
    }
   ],
   "source": [
    "z = y.cpu()\n",
    "z"
   ]
  },
  {
   "cell_type": "markdown",
   "metadata": {},
   "source": [
    "PyTorch also lets you do autodifferentiation, which is a big part of deep learning. Let's look at the gradient of $\\sum_i \\cos(x_i)^2$:"
   ]
  },
  {
   "cell_type": "code",
   "execution_count": 11,
   "metadata": {},
   "outputs": [],
   "source": [
    "def my_func(x):\n",
    "    return (torch.cos(x)**2).sum()"
   ]
  },
  {
   "cell_type": "markdown",
   "metadata": {},
   "source": [
    "First, we make our variable know that it should record gradients as it is operated upon with the `requires_grad` flag:"
   ]
  },
  {
   "cell_type": "code",
   "execution_count": 12,
   "metadata": {},
   "outputs": [],
   "source": [
    "x = torch.tensor([np.pi/4, np.pi/8])\n",
    "x.requires_grad = True"
   ]
  },
  {
   "cell_type": "markdown",
   "metadata": {},
   "source": [
    "Now, we take the gradient at each of $x=({\\pi \\over 4}, {\\pi \\over 8})$, which is -2 \\cos(x) \\sin(x):"
   ]
  },
  {
   "cell_type": "code",
   "execution_count": 13,
   "metadata": {},
   "outputs": [
    {
     "data": {
      "text/plain": [
       "(tensor([-1.0000, -0.7071]),)"
      ]
     },
     "execution_count": 13,
     "metadata": {},
     "output_type": "execute_result"
    }
   ],
   "source": [
    "torch.autograd.grad(my_func(x), x)"
   ]
  },
  {
   "cell_type": "markdown",
   "metadata": {},
   "source": [
    "We can also do this all on the GPU! We can also do higher-order derivatives by repeatedly calling grad."
   ]
  },
  {
   "cell_type": "code",
   "execution_count": 14,
   "metadata": {},
   "outputs": [
    {
     "data": {
      "text/plain": [
       "(tensor([-1.0000, -0.7071], device='cuda:0'),)"
      ]
     },
     "execution_count": 14,
     "metadata": {},
     "output_type": "execute_result"
    }
   ],
   "source": [
    "y = x.cuda()\n",
    "torch.autograd.grad(my_func(y), y)"
   ]
  },
  {
   "cell_type": "markdown",
   "metadata": {},
   "source": [
    "With gradient information, one can do gradient descent operation on a model using `torch.optim.SGD`:"
   ]
  },
  {
   "cell_type": "code",
   "execution_count": 15,
   "metadata": {},
   "outputs": [],
   "source": [
    "torch.optim.SGD;"
   ]
  },
  {
   "cell_type": "markdown",
   "metadata": {},
   "source": [
    "One can write a class that inherits from `torch.nn.Module`, declares `torch.nn.Parameters(...)` around its parameters, and then `torch.optim.SGD` can optimize those. This is how all deep learning works: gradient-based optimization of some highly-flexible differentiable model."
   ]
  },
  {
   "cell_type": "markdown",
   "metadata": {},
   "source": [
    "PyTorch is used as the backend for SBI. Let's move on to that now."
   ]
  },
  {
   "cell_type": "markdown",
   "metadata": {},
   "source": [
    "# Likelihood-free Inference Tutorial:"
   ]
  },
  {
   "cell_type": "markdown",
   "metadata": {},
   "source": [
    "Say that there is the following *true* model---a 2D Gaussian with known width:\n",
    "\n",
    "$$(x_1, x_2) \\sim \\mathcal{N}(\\mu, \\Sigma=0.25 I)$$\n",
    "\n",
    "The true vector for the Gaussian is $\\mu = (3, -1.5)$, which we are unaware of. We make 5 observations and attempt to reconstruct a posterior over $\\mu$.\n",
    "\n",
    "The likelihood of this model is given by $$P(x|\\mu) \\sim \\exp\\left({(x_1-3)^2 + (x_2- (-1.5))^2\\over 2 \\cdot 0.25}\\right),$$\n",
    "which gives us a way to recover the parameter given data and a prior: $P(\\mu|x) \\sim P(x|\\mu) P(\\mu)$.\n",
    "\n",
    "\n",
    "But now, say that **we don't know this likelihood**. Pretend we are not given the likelihood of a Gaussian. We only know how to draw samples from a Gaussian: this is our \"simulation.\"\n",
    "\n",
    "#### How can we compute a distribution over $\\mu$, without a likelihood?"
   ]
  },
  {
   "cell_type": "markdown",
   "metadata": {},
   "source": [
    "## Likelihood-free Inference\n",
    "\n",
    "For LFI, you need to provide two ingredients:\n",
    "\n",
    "1. a prior distribution that allows to sample parameter sets (your guess at $\\mu$)\n",
    "2. a simulator that takes parameter sets and produces simulation outputs (samples of a Gaussian with a given $\\mu$)\n",
    "\n",
    "For example, let's pretend we have a reasonable idea that $\\mu$ is within $[-10, 10]$ with uniform probability. We also have our simulator that generates samples of a Gaussian."
   ]
  },
  {
   "cell_type": "markdown",
   "metadata": {},
   "source": [
    "## Running the inference procedure\n",
    "\n",
    "`sbi` provides a simple interface to run state-of-the-art algorithms for simulation-based inference."
   ]
  },
  {
   "cell_type": "markdown",
   "metadata": {},
   "source": [
    "# Getting started with `sbi`"
   ]
  },
  {
   "cell_type": "code",
   "execution_count": 16,
   "metadata": {},
   "outputs": [],
   "source": [
    "import torch\n",
    "import sbi.utils as utils\n",
    "from sbi.inference.base import infer"
   ]
  },
  {
   "cell_type": "markdown",
   "metadata": {},
   "source": [
    "Let's write out our uniform prior:"
   ]
  },
  {
   "cell_type": "code",
   "execution_count": 22,
   "metadata": {},
   "outputs": [],
   "source": [
    "prior = utils.BoxUniform(\n",
    "    low=torch.tensor([-10., -10.]),\n",
    "    high=torch.tensor([10., 10.])\n",
    ")\n"
   ]
  },
  {
   "cell_type": "markdown",
   "metadata": {},
   "source": [
    "This will be used to generate proposals for $\\mu$."
   ]
  },
  {
   "cell_type": "markdown",
   "metadata": {},
   "source": [
    "Now, let's write out our simulator for a given $\\mu$:"
   ]
  },
  {
   "cell_type": "code",
   "execution_count": 23,
   "metadata": {},
   "outputs": [],
   "source": [
    "def simulator(mu):\n",
    "    # Generate samples from N(mu, sigma=0.5)\n",
    "    \n",
    "    return mu + 0.5 * torch.randn_like(mu)"
   ]
  },
  {
   "cell_type": "markdown",
   "metadata": {},
   "source": [
    "Let's test it by inputting a vector of potential $\\mu$ values:"
   ]
  },
  {
   "cell_type": "code",
   "execution_count": 24,
   "metadata": {},
   "outputs": [
    {
     "data": {
      "text/plain": [
       "tensor([[ 0.7272,  6.8405],\n",
       "        [ 3.4974,  5.2752],\n",
       "        [-7.7825, -2.4473]])"
      ]
     },
     "execution_count": 24,
     "metadata": {},
     "output_type": "execute_result"
    }
   ],
   "source": [
    "simulator(\n",
    "    torch.tensor([[1, 8.], [3., 5.], [-7., -3.]])\n",
    ")"
   ]
  },
  {
   "cell_type": "markdown",
   "metadata": {},
   "source": [
    "So here are samples of each simulation. Now, we will use this simulator with Likelihood-Free Inference to construct a distribution over potential mu values:"
   ]
  },
  {
   "cell_type": "markdown",
   "metadata": {},
   "source": [
    "#### Step 1: Let's learn a likelihood from the simulator:\n",
    "\n",
    "The likelihood is a type of \"normalized\" Neural Network---called a \"normalizing flow\". (as an example check out my paper where we learn an accurate CMD straight from Gaia data with a normalizing flow: https://arxiv.org/abs/1908.08045)"
   ]
  },
  {
   "cell_type": "code",
   "execution_count": 25,
   "metadata": {},
   "outputs": [
    {
     "data": {
      "text/plain": [
       "BoxUniform(Uniform(low: torch.Size([2]), high: torch.Size([2])), 1)"
      ]
     },
     "execution_count": 25,
     "metadata": {},
     "output_type": "execute_result"
    }
   ],
   "source": [
    "prior"
   ]
  },
  {
   "cell_type": "markdown",
   "metadata": {},
   "source": [
    "This will be a bit slow because we are training the neural network on a CPU:"
   ]
  },
  {
   "cell_type": "code",
   "execution_count": 82,
   "metadata": {},
   "outputs": [
    {
     "data": {
      "application/vnd.jupyter.widget-view+json": {
       "model_id": "15732c8c64384ec2a4819c0e2882f153",
       "version_major": 2,
       "version_minor": 0
      },
      "text/plain": [
       "HBox(children=(FloatProgress(value=0.0, description='Running 1000 simulations.', max=1000.0, style=ProgressSty…"
      ]
     },
     "metadata": {},
     "output_type": "display_data"
    },
    {
     "name": "stdout",
     "output_type": "stream",
     "text": [
      "\n",
      "Neural network successfully converged after 91 epochs.\n"
     ]
    }
   ],
   "source": [
    "posterior = infer(\n",
    "    simulator,\n",
    "    prior,\n",
    "#     method='SNPE',\n",
    "    method='SNLE',\n",
    "    num_workers=-1,\n",
    "    num_simulations=1000)"
   ]
  },
  {
   "cell_type": "markdown",
   "metadata": {},
   "source": [
    "Now we have a neural network that acts as our likelihood! Next, let's record our \"observations\" of the true distribution:"
   ]
  },
  {
   "cell_type": "code",
   "execution_count": 83,
   "metadata": {},
   "outputs": [],
   "source": [
    "n_observations = 10\n",
    "observation = torch.tensor([3., -1.5])[None] + 0.5*torch.randn(n_observations, 2)"
   ]
  },
  {
   "cell_type": "code",
   "execution_count": 84,
   "metadata": {},
   "outputs": [],
   "source": [
    "import seaborn as sns\n",
    "from matplotlib import pyplot as plt"
   ]
  },
  {
   "cell_type": "markdown",
   "metadata": {},
   "source": [
    "Here's the data:"
   ]
  },
  {
   "cell_type": "code",
   "execution_count": 85,
   "metadata": {},
   "outputs": [
    {
     "data": {
      "image/png": "[encoded data removed]",
      "text/plain": [
       "<Figure size 432x288 with 1 Axes>"
      ]
     },
     "metadata": {
      "needs_background": "light"
     },
     "output_type": "display_data"
    }
   ],
   "source": [
    "sns.scatterplot(x=observation[:, 0], y=observation[:, 1])\n",
    "plt.xlabel(r'$x_1$')\n",
    "plt.ylabel(r'$x_2$')\n",
    "plt.axis('scaled')\n",
    "plt.show()"
   ]
  },
  {
   "cell_type": "markdown",
   "metadata": {},
   "source": [
    "We can now use our learned likelihood (a neural network) to do inference on $\\mu$! The way the problem is structured on the neural net side, we need to manually include all observations separately. But we can make samples of a single datapoint like so:"
   ]
  },
  {
   "cell_type": "code",
   "execution_count": null,
   "metadata": {},
   "outputs": [
    {
     "name": "stderr",
     "output_type": "stream",
     "text": [
      "Tuning bracket width...: 100%|██████████| 50/50 [00:05<00:00,  9.22it/s]\n",
      "Generating samples: 100%|██████████| 20/20 [00:05<00:00,  3.57it/s]\n",
      "Generating samples:  35%|███▍      | 3460/10000 [16:09<30:28,  3.58it/s]"
     ]
    }
   ],
   "source": [
    "samples = posterior.sample((10000,), x=observation[0])"
   ]
  },
  {
   "cell_type": "markdown",
   "metadata": {},
   "source": [
    "And then plot this (it should look approximately Gaussian):"
   ]
  },
  {
   "cell_type": "code",
   "execution_count": null,
   "metadata": {},
   "outputs": [],
   "source": [
    "\n",
    "log_probability = posterior.log_prob(samples, x=observation[0])\n",
    "out = utils.pairplot(samples, limits=[[-10,10],[-10,10]], fig_size=(6,6))\n"
   ]
  },
  {
   "cell_type": "markdown",
   "metadata": {},
   "source": [
    "Let's create a grid of $\\mu$ close to the expected value of $(3, -15)$, and calculate the total log likelihood for each value:"
   ]
  },
  {
   "cell_type": "code",
   "execution_count": null,
   "metadata": {},
   "outputs": [],
   "source": [
    "import numpy as np\n",
    "\n",
    "bounds = [3-1, 3+1, -1.5-1, -1.5+1]\n",
    "\n",
    "mu_1, mu_2 = torch.tensor(np.mgrid[bounds[0]:bounds[1]:2/50., bounds[2]:bounds[3]:2/50.]).float()\n",
    "\n",
    "samples = torch.cat(\n",
    "    (mu_1.reshape(-1, 1), mu_2.reshape(-1, 1)),\n",
    "    dim=1\n",
    ")\n"
   ]
  },
  {
   "cell_type": "code",
   "execution_count": null,
   "metadata": {},
   "outputs": [],
   "source": [
    "log_prob = sum([posterior.log_prob(samples, x=observation[i]) for i in range(len(observation))])\n",
    "prob = torch.exp(log_prob)\n",
    "plt.contourf(prob.reshape(*mu_1.shape), extent=bounds, origin='lower')\n",
    "plt.axis('scaled')"
   ]
  },
  {
   "cell_type": "markdown",
   "metadata": {},
   "source": [
    "Now, this was a simple example and we could have written out an explicit likelihood. But the real power of Likelihood-Free Inference comes for high dimensional and complicated distributions, when there is no explicit analytic likelihood available. The exact same algorithm as above can simply be scaled up to a higher dimensional space."
   ]
  },
  {
   "cell_type": "markdown",
   "metadata": {},
   "source": [
    "Let's compare to the true likelihood:"
   ]
  },
  {
   "cell_type": "code",
   "execution_count": null,
   "metadata": {},
   "outputs": [],
   "source": [
    "true_like = lambda x: -((x[0] - mu_1)**2 + (x[1] - mu_2)**2)/(2*0.5**2)\n",
    "log_prob = sum([true_like(observation[i]) for i in range(len(observation))])\n",
    "prob = torch.exp(log_prob)\n",
    "plt.contourf(prob, extent=bounds, origin='lower')\n",
    "plt.axis('scaled')"
   ]
  },
  {
   "cell_type": "markdown",
   "metadata": {},
   "source": [
    "Not bad considering we only used O(1000) examples to learn the likelihood! The more simulations you use (much faster to train with GPUs), the more accurate the likelihood will be."
   ]
  },
  {
   "cell_type": "markdown",
   "metadata": {},
   "source": [
    "## Emphasis:\n",
    "\n",
    "LFI is a very general approach that will eventually be used everywhere in astrophysics where we don't have clear  likelihoods. To help give examples of what it could do:\n",
    "\n",
    "- Photo-z: parameter is z, you then generate some SEDs - that is your \"simulator\". Then use `sbi` to compare to data. You get a posterior over z.\n",
    "- Galaxy images: parameters are galaxy properties, orientation, distance, you then simulate some images of galaxies. You then use `sbi` to infer the galaxy properties.\n",
    "    - Here, one would probably want to use an autoencoder to first compress the images to vectors describing the properties.\n",
    "    - The likelihood is then learned over that autoencoded vector.\n",
    "- Cosmological parameters from a density field, simulate some power spectrum and feed into `sbi`. \n",
    "    - To avoid parts of the simulation you know are bad (e.g., small scales), simply add noise to them so the neural net doesn't use them.\n",
    "    - Again, here one would need to create summary statistics using another model."
   ]
  },
  {
   "cell_type": "markdown",
   "metadata": {},
   "source": [
    "## Requirements for the simulator, prior, and observation\n",
    "\n",
    "Regardless of the algorithm you need to provide a prior and a simulator for training. Let's talk about what requirements they need to satisfy."
   ]
  },
  {
   "cell_type": "markdown",
   "metadata": {},
   "source": [
    "\n",
    "### Prior\n",
    "A prior is a distribution object that allows to sample parameter sets. Any class for the prior is allowed as long as it allows to call `prior.sample()` and `prior.log_prob()`."
   ]
  },
  {
   "cell_type": "markdown",
   "metadata": {},
   "source": [
    "### Simulator\n",
    "The simulator is a Python callable that takes in a parameter set and outputs data with some (even if very small) stochasticity.\n",
    "\n",
    "Allowed data types and shapes for input and output:\n",
    "\n",
    "- the input parameter set and the output have to be either a `np.ndarray` or a `torch.Tensor`. \n",
    "- the input parameter set should have either shape `(1,N)` or `(N)`, and the output must have shape `(1,M)` or `(M)`.\n",
    "\n",
    "You can call simulators not written in Python as long as you wrap them in a Python function."
   ]
  },
  {
   "cell_type": "markdown",
   "metadata": {},
   "source": [
    "### Observation\n",
    "Once you have a trained posterior, you will want to evaluate or sample the posterior $p(\\theta|x_o)$ at certain observed values $x_o$:\n",
    "\n",
    "- The allowable data types are either Numpy `np.ndarray` or a torch `torch.Tensor`.\n",
    "- The shape must be either `(1,M)` or just `(M)`."
   ]
  },
  {
   "cell_type": "markdown",
   "metadata": {},
   "source": [
    "## Running different algorithms\n",
    "\n",
    "`sbi` implements three classes of algorithms that can be used to obtain the posterior distribution: SNPE, SNLE, and SNRE. You can try the different algorithms by simply swapping out the `method`:"
   ]
  },
  {
   "cell_type": "code",
   "execution_count": null,
   "metadata": {},
   "outputs": [],
   "source": [
    "posterior = infer(simulator, prior, method='SNPE', num_simulations=1000)\n",
    "posterior = infer(simulator, prior, method='SNLE', num_simulations=1000)\n",
    "posterior = infer(simulator, prior, method='SNRE', num_simulations=1000)"
   ]
  },
  {
   "cell_type": "markdown",
   "metadata": {},
   "source": [
    "You can then infer, sample, evaluate, and plot the posterior as described above."
   ]
  }
 ],
 "metadata": {
  "kernelspec": {
   "display_name": "main2",
   "language": "python",
   "name": "main2"
  },
  "language_info": {
   "codemirror_mode": {
    "name": "ipython",
    "version": 3
   },
   "file_extension": ".py",
   "mimetype": "text/x-python",
   "name": "python",
   "nbconvert_exporter": "python",
   "pygments_lexer": "ipython3",
   "version": "3.7.6"
  }
 },
 "nbformat": 4,
 "nbformat_minor": 4
}
